{
 "cells": [
  {
   "cell_type": "markdown",
   "metadata": {},
   "source": [
    "# Additional Python Stuff\n",
    "\n",
    "Здесь мы постарались собрать полезные операторы в Python, которые вы будете часто использовать"
   ]
  },
  {
   "cell_type": "markdown",
   "metadata": {},
   "source": [
    "### 1. Генераторы\n",
    "\n",
    "Больше про генераторы можно почитать [здесь](https://www.python.org/dev/peps/pep-0289/)"
   ]
  },
  {
   "cell_type": "code",
   "execution_count": 1,
   "metadata": {},
   "outputs": [
    {
     "data": {
      "text/plain": [
       "[0, 1, 2, 3, 4, 5, 6, 7, 8, 9]"
      ]
     },
     "execution_count": 1,
     "metadata": {},
     "output_type": "execute_result"
    }
   ],
   "source": [
    "# Обычный генератор списков\n",
    "[i for i in range(10)]"
   ]
  },
  {
   "cell_type": "code",
   "execution_count": 2,
   "metadata": {},
   "outputs": [
    {
     "data": {
      "text/plain": [
       "[0, 0, 0, 0, 0, 0, 0, 0, 0, 0]"
      ]
     },
     "execution_count": 2,
     "metadata": {},
     "output_type": "execute_result"
    }
   ],
   "source": [
    "# Вы можете использовать символ \"_\", если вам не нужен счётчик\n",
    "[0 for _ in range(10)]"
   ]
  },
  {
   "cell_type": "code",
   "execution_count": 3,
   "metadata": {},
   "outputs": [
    {
     "name": "stdout",
     "output_type": "stream",
     "text": [
      "[[1, 2, 3, 4, 5, 6, 7, 8, 9],\n",
      " [2, 4, 6, 8, 10, 12, 14, 16, 18],\n",
      " [3, 6, 9, 12, 15, 18, 21, 24, 27],\n",
      " [4, 8, 12, 16, 20, 24, 28, 32, 36],\n",
      " [5, 10, 15, 20, 25, 30, 35, 40, 45],\n",
      " [6, 12, 18, 24, 30, 36, 42, 48, 54],\n",
      " [7, 14, 21, 28, 35, 42, 49, 56, 63],\n",
      " [8, 16, 24, 32, 40, 48, 56, 64, 72],\n",
      " [9, 18, 27, 36, 45, 54, 63, 72, 81]]\n"
     ]
    }
   ],
   "source": [
    "# pprint -- pretty print \n",
    "from pprint import pprint\n",
    "\n",
    "\n",
    "pprint([[i*j for j in range(1, 10)] for i in range(1, 10)])"
   ]
  },
  {
   "cell_type": "code",
   "execution_count": 4,
   "metadata": {},
   "outputs": [
    {
     "data": {
      "text/plain": [
       "{0: 0, 1: 1, 2: 4, 3: 9, 4: 16, 5: 25, 6: 36, 7: 49, 8: 64, 9: 81}"
      ]
     },
     "execution_count": 4,
     "metadata": {},
     "output_type": "execute_result"
    }
   ],
   "source": [
    "# Генерировать можно и словари\n",
    "{i: i**2 for i in range(10)}"
   ]
  },
  {
   "cell_type": "code",
   "execution_count": 5,
   "metadata": {},
   "outputs": [
    {
     "data": {
      "text/plain": [
       "[14, 92, 6]"
      ]
     },
     "execution_count": 5,
     "metadata": {},
     "output_type": "execute_result"
    }
   ],
   "source": [
    "# В генераторе можно добавить условие\n",
    "[i for i in [3, 14, 15, 92, 6] if i % 2 == 0]"
   ]
  },
  {
   "cell_type": "markdown",
   "metadata": {},
   "source": [
    "### 2. lambda функции\n",
    "\n",
    "Простую функцию часто можно задать лямбдой в одну строку"
   ]
  },
  {
   "cell_type": "code",
   "execution_count": 6,
   "metadata": {},
   "outputs": [
    {
     "data": {
      "text/plain": [
       "4"
      ]
     },
     "execution_count": 6,
     "metadata": {},
     "output_type": "execute_result"
    }
   ],
   "source": [
    "(lambda x: x + 2)(2)"
   ]
  },
  {
   "cell_type": "markdown",
   "metadata": {},
   "source": [
    "Согласно [PEP 8](https://www.python.org/dev/peps/pep-0008/), лямбды **нельзя** присваивать каким-либо переменным.\n",
    "\n",
    "Для создания именованных функций **всегда** используйте `def`."
   ]
  },
  {
   "cell_type": "code",
   "execution_count": 7,
   "metadata": {},
   "outputs": [],
   "source": [
    "# Хороший стиль\n",
    "def f(x): return 2*x\n",
    "\n",
    "\n",
    "# Плохой стиль!\n",
    "f = lambda x: 2*x"
   ]
  },
  {
   "cell_type": "markdown",
   "metadata": {},
   "source": [
    "### 3. map, zip, sorted, sum\n",
    "\n",
    "1. `map` возвращает итерируемый объект, который является результатом применения переданной функции к переданному итерируемому объекту\n",
    "2. `zip` слепляет значения двух итерируемых объектов попарно\n",
    "3. `sorted` сортирует\n",
    "4. `sum` суммирует"
   ]
  },
  {
   "cell_type": "code",
   "execution_count": 8,
   "metadata": {},
   "outputs": [
    {
     "name": "stdout",
     "output_type": "stream",
     "text": [
      "[1, 4, 9, 16]\n",
      "[(1, 'a'), (2, 'b'), (3, 'c')]\n",
      "[1, 2, 3, 4]\n",
      "6\n"
     ]
    }
   ],
   "source": [
    "print(list(map(lambda x: x**2, [1, 2, 3, 4])))\n",
    "print(list(zip([1, 2, 3], ['a', 'b', 'c'])))\n",
    "print(sorted([2, 3, 1, 4]))\n",
    "print(sum([1, 2, 3]))"
   ]
  },
  {
   "cell_type": "markdown",
   "metadata": {},
   "source": [
    "### 4. itertools.chain\n",
    "\n",
    "Иногда бывает нужно склеить несколько списков последовательно"
   ]
  },
  {
   "cell_type": "code",
   "execution_count": 9,
   "metadata": {},
   "outputs": [
    {
     "name": "stdout",
     "output_type": "stream",
     "text": [
      "[1, 2, 3, 4, 5, 6]\n"
     ]
    }
   ],
   "source": [
    "import itertools\n",
    "\n",
    "\n",
    "print(list(itertools.chain([1, 2, 3], [4], [5, 6])))"
   ]
  },
  {
   "cell_type": "markdown",
   "metadata": {},
   "source": [
    "### 5. enumerate\n",
    "\n",
    "Использование `enumerate` часто удобнее, чем конструкция `for i in range(len(arr))` с использованием `arr[i]` в теле цикла"
   ]
  },
  {
   "cell_type": "code",
   "execution_count": 10,
   "metadata": {},
   "outputs": [
    {
     "name": "stdout",
     "output_type": "stream",
     "text": [
      "0 elements\n",
      "1 in\n",
      "2 list\n"
     ]
    }
   ],
   "source": [
    "arr = ['elements', 'in', 'list']\n",
    "for i, value in enumerate(arr):\n",
    "    print(i, value)"
   ]
  },
  {
   "cell_type": "code",
   "execution_count": 11,
   "metadata": {
    "scrolled": true
   },
   "outputs": [
    {
     "name": "stdout",
     "output_type": "stream",
     "text": [
      "{0: 'elements', 1: 'in', 2: 'list'}\n"
     ]
    }
   ],
   "source": [
    "print({i: value for i, value in enumerate(arr)})"
   ]
  },
  {
   "cell_type": "markdown",
   "metadata": {},
   "source": [
    "### 6. Counter\n",
    "\n",
    "Иногда необходимо посчитать количество уникальных объектов в списке и их частотность"
   ]
  },
  {
   "cell_type": "code",
   "execution_count": 12,
   "metadata": {},
   "outputs": [
    {
     "name": "stdout",
     "output_type": "stream",
     "text": [
      "Counter({1: 3, 2: 1, 3: 1, 4: 1})\n",
      "Counter({' ': 8, 'o': 4, 'u': 2, 'r': 2, 'e': 2, 'A': 1, 'q': 1, 'i': 1, 'c': 1, 'k': 1, 'b': 1, 'w': 1, 'n': 1, 'f': 1, 'x': 1, 'j': 1, 'm': 1, 'p': 1, 's': 1, 'v': 1, 't': 1, 'h': 1, 'l': 1, 'a': 1, 'z': 1, 'y': 1, 'd': 1, 'g': 1})\n"
     ]
    }
   ],
   "source": [
    "from collections import Counter\n",
    "\n",
    "\n",
    "print(Counter([1, 2, 3, 1, 1, 4]))\n",
    "print(Counter('A quick brown fox jumps over the lazy dog'))"
   ]
  },
  {
   "cell_type": "markdown",
   "metadata": {},
   "source": [
    "### 7. Однострочный `if`"
   ]
  },
  {
   "cell_type": "code",
   "execution_count": 13,
   "metadata": {},
   "outputs": [
    {
     "name": "stdout",
     "output_type": "stream",
     "text": [
      "No\n"
     ]
    }
   ],
   "source": [
    "print('Yes' if 2 == 3 else 'No')"
   ]
  },
  {
   "cell_type": "markdown",
   "metadata": {},
   "source": [
    "### 8. f-строки\n",
    "\n",
    "Можно использовать с Python 3.6"
   ]
  },
  {
   "cell_type": "code",
   "execution_count": 14,
   "metadata": {},
   "outputs": [
    {
     "name": "stdout",
     "output_type": "stream",
     "text": [
      "sum of 2 and 3 is 5\n"
     ]
    }
   ],
   "source": [
    "print(f'sum of 2 and 3 is {2 + 3}')"
   ]
  },
  {
   "cell_type": "code",
   "execution_count": 15,
   "metadata": {},
   "outputs": [
    {
     "name": "stdout",
     "output_type": "stream",
     "text": [
      "a=42\n"
     ]
    }
   ],
   "source": [
    "a = 42\n",
    "# Если вы используете версию Python < 3.8:\n",
    "print(f'a={a}')\n",
    "# Если вы используете версию Python >= 3.8:\n",
    "# print(f'{a=}')"
   ]
  },
  {
   "cell_type": "markdown",
   "metadata": {},
   "source": [
    "### 8 1/2\n",
    "\n",
    "Если вы работаете на UNIX-системе или в Google Colab, вы можете скачивать данные непосредственно из jupyter ноутбука\n",
    "\n",
    "Для этого можно использовать команду !wget\n",
    "\n",
    "В windows у вас скорее всего ничего не получится"
   ]
  },
  {
   "cell_type": "code",
   "execution_count": 16,
   "metadata": {},
   "outputs": [
    {
     "name": "stdout",
     "output_type": "stream",
     "text": [
      "--2020-01-19 16:20:20--  https://raw.githubusercontent.com/blacKitten13/minor2020-iad4/master/sem03_pandas/math_students.csv\n",
      "Loaded CA certificate '/etc/ssl/certs/ca-certificates.crt'\n",
      "Resolving raw.githubusercontent.com (raw.githubusercontent.com)... 151.101.244.133\n",
      "Connecting to raw.githubusercontent.com (raw.githubusercontent.com)|151.101.244.133|:443... connected.\n",
      "HTTP request sent, awaiting response... 200 OK\n",
      "Length: 41983 (41K) [text/plain]\n",
      "Saving to: ‘math_students.csv.3’\n",
      "\n",
      "math_students.csv.3 100%[===================>]  41.00K  --.-KB/s    in 0.09s   \n",
      "\n",
      "2020-01-19 16:20:20 (456 KB/s) - ‘math_students.csv.3’ saved [41983/41983]\n",
      "\n"
     ]
    }
   ],
   "source": [
    "!wget https://raw.githubusercontent.com/blacKitten13/minor2020-iad4/master/sem03_pandas/math_students.csv"
   ]
  },
  {
   "cell_type": "markdown",
   "metadata": {},
   "source": [
    "Если вы скачали zip файл, используйте `unzip`"
   ]
  }
 ],
 "metadata": {
  "kernelspec": {
   "display_name": "Python 3",
   "language": "python",
   "name": "python3"
  },
  "language_info": {
   "codemirror_mode": {
    "name": "ipython",
    "version": 3
   },
   "file_extension": ".py",
   "mimetype": "text/x-python",
   "name": "python",
   "nbconvert_exporter": "python",
   "pygments_lexer": "ipython3",
   "version": "3.8.1"
  }
 },
 "nbformat": 4,
 "nbformat_minor": 2
}
